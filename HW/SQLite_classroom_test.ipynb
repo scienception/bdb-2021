{
 "cells": [
  {
   "cell_type": "markdown",
   "metadata": {},
   "source": [
    "# SQLite Classroom Test, BDB 2020-2021\n",
    "\n",
    "Complete the following tasks:\n",
    "\n",
    "1. Create an empty SQLite database, calling it _aminoacids.sqlite_. This database should have a single table called _aminoacids_, with this schema:\n",
    "\n",
    " - name --> the name of an aminoacid, e.g. Alanine\n",
    " - long --> the three-letters abbreviation, e.g. Ala\n",
    " - short --> the one-letter abbreviation, e.g. A\n",
    " - polarity --> 1 if it the aminoacid is polar, 0 if it is non-polar\n",
    " - hydro --> the hydrophobicity value, e.g. 1.8 (related to $\\Delta G^0$ for transfer from vapor to water)\n",
    "\n",
    "\n",
    "2. Populate the SQLite database created above with the information found in the CSV file called _aminoacids.csv_ available on Virtuale. This file contains the 20 aminoacids found in proteins. Once the SQLite DB has been populated, close it.\n",
    "\n",
    "\n",
    "3. Open the SQLite database you created, read data from it and find what are the __polar aminoacids__.\n",
    "\n",
    "\n",
    "4. Create a scatter plot of __all aminoacids__, using x = hydrophobicity and y = polarity. \n",
    "\n",
    "\n",
    "5. Find the aminoacids that are non-polar __and__ with negative hydrophobicity."
   ]
  },
  {
   "cell_type": "code",
   "execution_count": null,
   "metadata": {},
   "outputs": [],
   "source": []
  }
 ],
 "metadata": {
  "kernelspec": {
   "display_name": "Python 3",
   "language": "python",
   "name": "python3"
  },
  "language_info": {
   "codemirror_mode": {
    "name": "ipython",
    "version": 3
   },
   "file_extension": ".py",
   "mimetype": "text/x-python",
   "name": "python",
   "nbconvert_exporter": "python",
   "pygments_lexer": "ipython3",
   "version": "3.8.6"
  }
 },
 "nbformat": 4,
 "nbformat_minor": 4
}
