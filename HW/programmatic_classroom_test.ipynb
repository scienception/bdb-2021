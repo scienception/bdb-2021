{
 "cells": [
  {
   "cell_type": "markdown",
   "metadata": {},
   "source": [
    "# Programmatic Access Classroom Test, BDB 2020-2021"
   ]
  },
  {
   "cell_type": "markdown",
   "metadata": {},
   "source": [
    "Given the following GraphQL query:\n",
    "\n",
    "```\n",
    "{\n",
    "  entry(entry_id: \"3EIY\") {\n",
    "    rcsb_id\n",
    "    rcsb_accession_info {\n",
    "      initial_release_date\n",
    "    }\n",
    "    rcsb_primary_citation {\n",
    "      pdbx_database_id_DOI\n",
    "      pdbx_database_id_PubMed\n",
    "    }\n",
    "    audit_author {\n",
    "      identifier_ORCID\n",
    "      name\n",
    "    }\n",
    "    struct {\n",
    "      pdbx_descriptor\n",
    "      title\n",
    "    }\n",
    "    exptl {\n",
    "      method\n",
    "    }\n",
    "  }\n",
    "}\n",
    "```\n",
    "\n",
    "1. Write a Python program that submits that query to the GraphQL PBD interface, available at https://data.rcsb.org/graphql. The program should read the returned info into a Python dictionary.\n",
    "\n",
    "\n",
    "\n",
    "2. From that dictionary, print the following information:\n",
    "- the structure title, stored in the \"title\" key.\n",
    "- the PubMed ID, stored in the \"pdbx_database_id_PubMed\" key.\n",
    "\n",
    "\n",
    "3. Query PubMed to get the citation related to the PubMed ID found in the step above. The relevant PubMed REST API is available at https://api.ncbi.nlm.nih.gov/lit/ctxp/v1/pubmed/?format=citation&id=XXXXX (replace XXXXX with the ID you found); print the citation in the American Medical Association (AMA) style. Hint: use the 'ama' key in the returned response from PubMed and the 'orig' format.\n",
    "\n",
    "\n",
    "4. Write a Python function called `get_citation()` that does the steps above, taking as input a PDB ID and returning two strings: the structure title and the citation. Test your function with the following code:\n",
    "\n",
    "```python\n",
    "title, citation = get_citation('6VXX')\n",
    "print('Title: %s' % title)\n",
    "print('Citation: %s' % citation)\n",
    "```"
   ]
  },
  {
   "cell_type": "code",
   "execution_count": null,
   "metadata": {},
   "outputs": [],
   "source": []
  }
 ],
 "metadata": {
  "kernelspec": {
   "display_name": "Python 3",
   "language": "python",
   "name": "python3"
  },
  "language_info": {
   "codemirror_mode": {
    "name": "ipython",
    "version": 3
   },
   "file_extension": ".py",
   "mimetype": "text/x-python",
   "name": "python",
   "nbconvert_exporter": "python",
   "pygments_lexer": "ipython3",
   "version": "3.8.6"
  }
 },
 "nbformat": 4,
 "nbformat_minor": 4
}
