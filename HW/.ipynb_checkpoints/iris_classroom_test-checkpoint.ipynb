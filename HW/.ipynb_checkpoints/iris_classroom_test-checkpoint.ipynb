{
 "cells": [
  {
   "cell_type": "markdown",
   "metadata": {},
   "source": [
    "# Iris Classroom test, BDB 2020-2021\n",
    "\n",
    "Complete the following tasks:\n",
    "\n",
    "1. Read the CSV file called \"The Iris Data Set\", available on Virtuale in the Section \"Classroom Tests\", into a Pandas data frame. This file contains data from each of three species of the Iris flower. Check that the data set was read correctly, printing out the first few lines of the data frame.\n",
    "\n",
    "The data set includes characteristics related to __sepals__ and __petals__.\n",
    "\n",
    "<img src='https://www.math.umd.edu/~petersd/666/html/iris_with_labels.jpg'>\n",
    "\n",
    "\n",
    "2. How many rows does the data set contain? How many columns?\n",
    "\n",
    "\n",
    "3. Compute the average petal length.\n",
    "\n",
    "\n",
    "4. Find the rows of the data set where petal length is 50% longer than the average petal length.\n",
    "\n",
    "\n",
    "5. Find the average sepal width for each species.\n",
    "\n",
    "\n",
    "6. Plot the Iris data set with a __scatter plot__ (use _kind='scatter'_ when calling the _plot()_ method), plotting __petal_length vs. petal_width__. \n",
    "\n",
    "\n",
    "7. <span style=\"color:red\">(More difficult)</span> Repeat the plot above but this time assign _different colors to the different Iris species_, which should all be plotted _in the same plot_. Hint: you will need to find some suitable parameters for the _plot()_ method. Note: it is __not__ necessary to use toolkits other than Pandas to do this."
   ]
  },
  {
   "cell_type": "code",
   "execution_count": 2,
   "metadata": {},
   "outputs": [],
   "source": [
    "import pandas as pd"
   ]
  },
  {
   "cell_type": "markdown",
   "metadata": {},
   "source": [
    "df = pd.read_csv(\"iris.csv\")\n",
    "print(\"col\", df.col())\n",
    "print(\"row\", df.row())\n",
    "df.head()"
   ]
  },
  {
   "cell_type": "code",
   "execution_count": null,
   "metadata": {},
   "outputs": [],
   "source": []
  }
 ],
 "metadata": {
  "kernelspec": {
   "display_name": "Python 3",
   "language": "python",
   "name": "python3"
  },
  "language_info": {
   "codemirror_mode": {
    "name": "ipython",
    "version": 3
   },
   "file_extension": ".py",
   "mimetype": "text/x-python",
   "name": "python",
   "nbconvert_exporter": "python",
   "pygments_lexer": "ipython3",
   "version": "3.8.6"
  }
 },
 "nbformat": 4,
 "nbformat_minor": 4
}
