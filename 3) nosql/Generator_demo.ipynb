{
 "cells": [
  {
   "cell_type": "markdown",
   "metadata": {},
   "source": [
    "# Biomedical Data Bases, 2020-2021\n",
    "### NoSQL Databases\n",
    "These are the notes by prof. Davide Salomoni (d.salomoni@unibo.it) for the Biomedical Data Base course at the University of Bologna, academic year 2020-2021.\n",
    "\n",
    "## Generator notebook\n",
    "\n",
    "This is the notebook implementing a _generator_ of random values, that will be published to Redis using PubSub."
   ]
  },
  {
   "cell_type": "code",
   "execution_count": 54,
   "metadata": {},
   "outputs": [],
   "source": [
    "import redis\n",
    "r = redis.Redis(host=\"my_redis\")\n",
    "r.flushall()\n",
    "r.close()"
   ]
  },
  {
   "cell_type": "code",
   "execution_count": 60,
   "metadata": {},
   "outputs": [
    {
     "data": {
      "text/plain": [
       "4"
      ]
     },
     "execution_count": 60,
     "metadata": {},
     "output_type": "execute_result"
    }
   ],
   "source": [
    "import redis\n",
    "import random\n",
    "import time\n",
    "\n",
    "t_min, t_max = 20.0, 22.0  # temperature range, in Celsius\n",
    "h_min, h_max = 35.0, 40.0  # relative humidity range, in %\n",
    "\n",
    "# create a connection to the Redis server\n",
    "generator = redis.Redis(host=\"my_redis\")\n",
    "\n",
    "# the channel to publish to\n",
    "channel = 'experiment'\n",
    "\n",
    "# generate some random data and publish it to a channel\n",
    "for i in range(200):\n",
    "    temperature = round(random.uniform(t_min, t_max), 2)\n",
    "    humidity = round(random.uniform(h_min, h_max), 2)\n",
    "    \n",
    "    # pack the data in a string, separating it with ':'\n",
    "    data = \"%s:%s\" % (temperature, humidity)\n",
    "    \n",
    "    # publish data\n",
    "    generator.publish(channel, data)\n",
    "    \n",
    "    time.sleep(0.1)\n",
    "\n",
    "# simple minded: send a special message to tell subscribers to stop\n",
    "generator.publish(channel, '-999:-999')"
   ]
  },
  {
   "cell_type": "code",
   "execution_count": null,
   "metadata": {},
   "outputs": [],
   "source": []
  }
 ],
 "metadata": {
  "kernelspec": {
   "display_name": "Python 3",
   "language": "python",
   "name": "python3"
  },
  "language_info": {
   "codemirror_mode": {
    "name": "ipython",
    "version": 3
   },
   "file_extension": ".py",
   "mimetype": "text/x-python",
   "name": "python",
   "nbconvert_exporter": "python",
   "pygments_lexer": "ipython3",
   "version": "3.8.6"
  }
 },
 "nbformat": 4,
 "nbformat_minor": 4
}
